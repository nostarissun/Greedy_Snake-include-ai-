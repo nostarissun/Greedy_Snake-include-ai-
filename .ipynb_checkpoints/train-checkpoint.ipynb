{
 "cells": [
  {
   "cell_type": "code",
   "execution_count": 1,
   "id": "1a3b959f-9bed-4592-b542-544d5f0f510b",
   "metadata": {},
   "outputs": [
    {
     "name": "stdout",
     "output_type": "stream",
     "text": [
      "未检测到已有模型！将重新训练\n",
      "use gpu!\n",
      "\u001b[91m================================================================================\u001b[0m\n",
      "\u001b[91mEpisode: 1\u001b[0m\n",
      "dx,dy wrong\n"
     ]
    },
    {
     "ename": "NameError",
     "evalue": "name 'quit' is not defined",
     "output_type": "error",
     "traceback": [
      "\u001b[1;31m---------------------------------------------------------------------------\u001b[0m",
      "\u001b[1;31mNameError\u001b[0m                                 Traceback (most recent call last)",
      "Cell \u001b[1;32mIn[1], line 5\u001b[0m\n\u001b[0;32m      3\u001b[0m \u001b[38;5;66;03m#episodes  save show spilson max_guide_num\u001b[39;00m\n\u001b[0;32m      4\u001b[0m frame \u001b[38;5;241m=\u001b[39m train_env\u001b[38;5;241m.\u001b[39mENV(\u001b[38;5;241m5000\u001b[39m, \u001b[38;5;241m100\u001b[39m, \u001b[38;5;241m10000\u001b[39m, \u001b[38;5;241m0.5\u001b[39m, \u001b[38;5;241m1000\u001b[39m) \n\u001b[1;32m----> 5\u001b[0m \u001b[43mframe\u001b[49m\u001b[38;5;241;43m.\u001b[39;49m\u001b[43mmain\u001b[49m\u001b[43m(\u001b[49m\u001b[38;5;28;43;01mFalse\u001b[39;49;00m\u001b[43m)\u001b[49m\n",
      "File \u001b[1;32m~\\Desktop\\ai贪吃蛇\\train_env.py:86\u001b[0m, in \u001b[0;36mENV.main\u001b[1;34m(self, show)\u001b[0m\n\u001b[0;32m     84\u001b[0m \u001b[38;5;28;01mif\u001b[39;00m dx \u001b[38;5;241m==\u001b[39m \u001b[38;5;241m0\u001b[39m \u001b[38;5;129;01mand\u001b[39;00m dy \u001b[38;5;241m==\u001b[39m \u001b[38;5;241m0\u001b[39m:\n\u001b[0;32m     85\u001b[0m     \u001b[38;5;28mprint\u001b[39m(\u001b[38;5;124m\"\u001b[39m\u001b[38;5;124mdx,dy wrong\u001b[39m\u001b[38;5;124m\"\u001b[39m)\n\u001b[1;32m---> 86\u001b[0m     \u001b[43mquit\u001b[49m\n\u001b[0;32m     87\u001b[0m \u001b[38;5;28;01mif\u001b[39;00m \u001b[38;5;129;01mnot\u001b[39;00m valid:\n\u001b[0;32m     88\u001b[0m     run \u001b[38;5;241m=\u001b[39m \u001b[38;5;28;01mFalse\u001b[39;00m\n",
      "\u001b[1;31mNameError\u001b[0m: name 'quit' is not defined"
     ]
    }
   ],
   "source": [
    "import train_env\n",
    "\n",
    "#episodes  save show spilson max_guide_num\n",
    "frame = train_env.ENV(5000, 100, 10000, 0.5, 1000) \n",
    "frame.main(False)  "
   ]
  },
  {
   "cell_type": "code",
   "execution_count": 5,
   "id": "cb4e189a-84cf-4e2f-9e34-730f086db8f7",
   "metadata": {},
   "outputs": [
    {
     "name": "stdout",
     "output_type": "stream",
     "text": [
      "[[4. 0. 0.]\n",
      " [0. 0. 0.]]\n",
      "[[0. 0. 0.]\n",
      " [0. 0. 0.]]\n"
     ]
    }
   ],
   "source": [
    "import numpy as np\n",
    "import copy\n",
    "a = np.zeros((2,3))\n",
    "def change(b):\n",
    "    a = b.copy()\n",
    "    a[0][0] = 4\n",
    "    print(a)\n",
    "change(a)\n",
    "print(a)"
   ]
  },
  {
   "cell_type": "code",
   "execution_count": 12,
   "id": "1ec18e01-2ce5-4867-bdc6-bc7a9a90ab54",
   "metadata": {},
   "outputs": [
    {
     "name": "stdout",
     "output_type": "stream",
     "text": [
      "[[2 4]\n",
      " [1 3]]\n",
      "[[1, 2], [3, 4]]\n"
     ]
    }
   ],
   "source": [
    "import copy\n",
    "import numpy as np\n",
    "state = [[1,2],\n",
    "         [3,4]\n",
    "        ]\n",
    "rotated_state = np.rot90(state, 1)\n",
    "print(rotated_state)\n",
    "print(state)"
   ]
  },
  {
   "cell_type": "code",
   "execution_count": 1,
   "id": "a9bb2101-99bd-4a9d-9c92-02db4b908853",
   "metadata": {},
   "outputs": [
    {
     "ename": "NameError",
     "evalue": "name 'max_value' is not defined",
     "output_type": "error",
     "traceback": [
      "\u001b[1;31m---------------------------------------------------------------------------\u001b[0m",
      "\u001b[1;31mNameError\u001b[0m                                 Traceback (most recent call last)",
      "Cell \u001b[1;32mIn[1], line 7\u001b[0m\n\u001b[0;32m      5\u001b[0m value \u001b[38;5;241m=\u001b[39m torch\u001b[38;5;241m.\u001b[39mFloatTensor(states)\u001b[38;5;241m.\u001b[39munsqueeze(\u001b[38;5;241m0\u001b[39m)\u001b[38;5;241m.\u001b[39munsqueeze(\u001b[38;5;241m0\u001b[39m)\n\u001b[0;32m      6\u001b[0m v \u001b[38;5;241m=\u001b[39m value[\u001b[38;5;241m0\u001b[39m][\u001b[38;5;241m0\u001b[39m][\u001b[38;5;241m0\u001b[39m]\n\u001b[1;32m----> 7\u001b[0m \u001b[38;5;28mprint\u001b[39m(\u001b[43mmax_value\u001b[49m)\n\u001b[0;32m      9\u001b[0m max_indices \u001b[38;5;241m=\u001b[39m []\n\u001b[0;32m     10\u001b[0m max_v \u001b[38;5;241m=\u001b[39m \u001b[38;5;28mmax\u001b[39m(v)\n",
      "\u001b[1;31mNameError\u001b[0m: name 'max_value' is not defined"
     ]
    }
   ],
   "source": [
    "import random\n",
    "import torch\n",
    "states = [[0.1061, 0.1190, 0.0694, 0.0808]]\n",
    "\n",
    "value = torch.FloatTensor(states).unsqueeze(0).unsqueeze(0)\n",
    "v = value[0][0][0]\n",
    "print(max_value)\n",
    "\n",
    "max_indices = []\n",
    "max_v = max(v)\n",
    "for i in range(4):\n",
    "    if v[i] == max_v:\n",
    "        max_indices.append(i)\n",
    "\n",
    "res = random.choice(max_indices)\n",
    "print(res)"
   ]
  },
  {
   "cell_type": "code",
   "execution_count": 14,
   "id": "c3303245-3324-449d-8f48-9709b4cd7195",
   "metadata": {},
   "outputs": [
    {
     "name": "stdout",
     "output_type": "stream",
     "text": [
      "tensor([[-0.0566, -0.2286,  0.1981]], grad_fn=<AddmmBackward0>)\n",
      "tensor(-0.2286, grad_fn=<SelectBackward0>)\n"
     ]
    }
   ],
   "source": [
    "import numpy as np\n",
    "import model\n",
    "net = model.Net(15, 3)\n",
    "Q = model.DQN(net)\n",
    "a = np.zeros((15, 15))\n",
    "a = torch.FloatTensor(a).unsqueeze(0).unsqueeze(0)\n",
    "res = Q.value(a)\n",
    "print(res)\n",
    "print(res[0][1])\n",
    "# print(max(res[0]))\n",
    "# print(res.max(1)[0])"
   ]
  },
  {
   "cell_type": "code",
   "execution_count": 6,
   "id": "04f01fb1-bc66-4457-a718-59ee3aa43359",
   "metadata": {},
   "outputs": [
    {
     "ename": "TypeError",
     "evalue": "'builtin_function_or_method' object is not subscriptable",
     "output_type": "error",
     "traceback": [
      "\u001b[1;31m---------------------------------------------------------------------------\u001b[0m",
      "\u001b[1;31mTypeError\u001b[0m                                 Traceback (most recent call last)",
      "Cell \u001b[1;32mIn[6], line 1\u001b[0m\n\u001b[1;32m----> 1\u001b[0m \u001b[38;5;28mprint\u001b[39m(\u001b[38;5;28;43mmax\u001b[39;49m\u001b[43m[\u001b[49m\u001b[38;5;241;43m-\u001b[39;49m\u001b[38;5;241;43m0.09415875375270844\u001b[39;49m\u001b[43m,\u001b[49m\u001b[43m \u001b[49m\u001b[38;5;241;43m-\u001b[39;49m\u001b[38;5;241;43m0.07439233362674713\u001b[39;49m\u001b[43m,\u001b[49m\u001b[43m \u001b[49m\u001b[38;5;241;43m-\u001b[39;49m\u001b[38;5;241;43m0.06203056126832962\u001b[39;49m\u001b[43m,\u001b[49m\u001b[43m \u001b[49m\u001b[38;5;241;43m-\u001b[39;49m\u001b[38;5;241;43m0.09894663095474243\u001b[39;49m\u001b[43m]\u001b[49m)\n",
      "\u001b[1;31mTypeError\u001b[0m: 'builtin_function_or_method' object is not subscriptable"
     ]
    }
   ],
   "source": [
    "print(max[-0.09415875375270844, -0.07439233362674713, -0.06203056126832962, -0.09894663095474243])"
   ]
  },
  {
   "cell_type": "code",
   "execution_count": null,
   "id": "378717ea-0991-4a8f-a60c-461f8ecbb97b",
   "metadata": {},
   "outputs": [],
   "source": []
  }
 ],
 "metadata": {
  "kernelspec": {
   "display_name": "Python 3 (ipykernel)",
   "language": "python",
   "name": "python3"
  },
  "language_info": {
   "codemirror_mode": {
    "name": "ipython",
    "version": 3
   },
   "file_extension": ".py",
   "mimetype": "text/x-python",
   "name": "python",
   "nbconvert_exporter": "python",
   "pygments_lexer": "ipython3",
   "version": "3.8.20"
  }
 },
 "nbformat": 4,
 "nbformat_minor": 5
}
